{
 "cells": [
  {
   "cell_type": "markdown",
   "metadata": {},
   "source": [
    "# Performance Comparison\n",
    "\n",
    "## ASONAM 2020 Tutorial\n",
    "### Authors\n",
    " - Brad Rees, PhD [brees@nvidia.com]\n",
    " - Corey Noley [cnolet@nvidia.com]\n",
    " \n",
    "### Development Notes\n",
    " - Developed using: RAPIDS v0.17\n"
   ]
  },
  {
   "cell_type": "code",
   "execution_count": 1,
   "metadata": {},
   "outputs": [
    {
     "name": "stdout",
     "output_type": "stream",
     "text": [
      "Wed Dec  2 10:13:13 2020       \n",
      "+-----------------------------------------------------------------------------+\n",
      "| NVIDIA-SMI 450.80.02    Driver Version: 450.80.02    CUDA Version: 11.0     |\n",
      "|-------------------------------+----------------------+----------------------+\n",
      "| GPU  Name        Persistence-M| Bus-Id        Disp.A | Volatile Uncorr. ECC |\n",
      "| Fan  Temp  Perf  Pwr:Usage/Cap|         Memory-Usage | GPU-Util  Compute M. |\n",
      "|                               |                      |               MIG M. |\n",
      "|===============================+======================+======================|\n",
      "|   0  Quadro GV100        Off  | 00000000:04:00.0  On |                  Off |\n",
      "| 33%   44C    P0    27W / 250W |    226MiB / 32503MiB |      0%      Default |\n",
      "|                               |                      |                  N/A |\n",
      "+-------------------------------+----------------------+----------------------+\n",
      "                                                                               \n",
      "+-----------------------------------------------------------------------------+\n",
      "| Processes:                                                                  |\n",
      "|  GPU   GI   CI        PID   Type   Process name                  GPU Memory |\n",
      "|        ID   ID                                                   Usage      |\n",
      "|=============================================================================|\n",
      "|    0   N/A  N/A      1251      G   /usr/lib/xorg/Xorg                134MiB |\n",
      "|    0   N/A  N/A      2354      G   /usr/bin/gnome-shell               90MiB |\n",
      "+-----------------------------------------------------------------------------+\n",
      "WARNING: infoROM is corrupted at gpu 0000:04:00.0\n"
     ]
    }
   ],
   "source": [
    "# See how many GPUs are avaialble\n",
    "!nvidia-smi"
   ]
  },
  {
   "cell_type": "code",
   "execution_count": 2,
   "metadata": {},
   "outputs": [],
   "source": [
    "# If you have multiple GPUs, set the ones to use\n",
    "import os\n",
    "os.environ[\"CUDA_VISIBLE_DEVICES\"]=\"0\""
   ]
  },
  {
   "cell_type": "code",
   "execution_count": 3,
   "metadata": {},
   "outputs": [],
   "source": [
    "import cudf\n",
    "import cugraph\n",
    "\n",
    "import pandas as pd\n",
    "import networkx as nx\n",
    "\n",
    "import numpy as np\n",
    "\n",
    "import os\n",
    "import time\n",
    "import gc"
   ]
  },
  {
   "cell_type": "markdown",
   "metadata": {},
   "source": [
    "# Introduction"
   ]
  },
  {
   "cell_type": "markdown",
   "metadata": {},
   "source": [
    "Today, organizations collect vast amounts of network traffic and network metadata. As the volume of data collected and velocity at which it's collected continue to increase, security analysts and forensic investigators require fast triage, processing, modeling, and visualization capabilities. Using the [RAPIDS](https://rapids.ai) suite of open-source software, we demonstrate how to:\n",
    "\n",
    "1. Triage and perform data exploration,\n",
    "2. Model network data as a graph,\n",
    "3. Perform graph analytics on the graph representation of the cyber network data, and\n",
    "4. Prepare the results in a way that is suitable for visualization."
   ]
  },
  {
   "cell_type": "markdown",
   "metadata": {},
   "source": [
    "# Data Import and Formatting"
   ]
  },
  {
   "cell_type": "markdown",
   "metadata": {},
   "source": [
    "For this tutorial, we will used the [IDS 2018 dataset](https://www.unb.ca/cic/datasets/ids-2018.html) from the [Canadian Institute for Cybersecurity](https://www.unb.ca/cic/). The data is stored as raw PCAP files in AWS, and we'll need flow-level data for this use case. To make things eaiser, we've already created bidirectional flow using the [CIC FlowMeter tool](https://github.com/ISCX/CICFlowMeter). You can download it and get started immediately using the cell below. If you wish to store the data in a different location other than the default, change the value of `BASE_DIRECTORY`."
   ]
  },
  {
   "cell_type": "code",
   "execution_count": 4,
   "metadata": {},
   "outputs": [],
   "source": [
    "BASE_DIRECTORY = \"./data/\"\n",
    "DOWNLOAD_DIRECTORY = BASE_DIRECTORY + \"cic_ids2018/\"\n",
    "DOWNLOAD_FILE = \"Friday-02-03-2018-biflows.tar.gz\"\n",
    "DIR_AND_FILE = DOWNLOAD_DIRECTORY + DOWNLOAD_FILE\n",
    "DATA_DIRECTORY = DOWNLOAD_DIRECTORY + DOWNLOAD_FILE.split('.')[0] + \"/\""
   ]
  },
  {
   "cell_type": "code",
   "execution_count": 5,
   "metadata": {},
   "outputs": [
    {
     "name": "stdout",
     "output_type": "stream",
     "text": [
      ">> Data already downloaded\n",
      ">> Data already extracted to ./data/cic_ids2018/Friday-02-03-2018-biflows/\n"
     ]
    }
   ],
   "source": [
    "!mkdir -p $DOWNLOAD_DIRECTORY\n",
    "!if [ ! -f $DIR_AND_FILE ]; then echo \">> Downloading data\" && wget -O $DIR_AND_FILE https://rapidsai-data.s3.us-east-2.amazonaws.com/cyber/kdd2019/Friday-02-03-2018-biflows.tar.gz; else echo \">> Data already downloaded\"; fi\n",
    "!if [ ! -d $DATA_DIRECTORY ]; then echo \">> Extracting $DOWNLOAD_FILE to $DATA_DIRECTORY\" && tar -xzf $DIR_AND_FILE -C $DOWNLOAD_DIRECTORY; else echo \">> Data already extracted to $DATA_DIRECTORY\"; fi"
   ]
  },
  {
   "cell_type": "markdown",
   "metadata": {},
   "source": [
    "If you would prefer to create your own biflow data, [follow the directions at the bottom of this page to download the data](https://www.unb.ca/cic/datasets/ids-2018.html) to your machine. You'll then need to build and use the CIC FlowMeter tool to create biflow data."
   ]
  },
  {
   "cell_type": "markdown",
   "metadata": {},
   "source": [
    "----"
   ]
  },
  {
   "cell_type": "markdown",
   "metadata": {},
   "source": [
    "### Load in `conn` (connection) logs - "
   ]
  },
  {
   "cell_type": "code",
   "execution_count": 6,
   "metadata": {},
   "outputs": [
    {
     "name": "stdout",
     "output_type": "stream",
     "text": [
      "4.1G\t./data/cic_ids2018/Friday-02-03-2018-biflows/\n"
     ]
    }
   ],
   "source": [
    "!du -sh $DATA_DIRECTORY"
   ]
  },
  {
   "cell_type": "code",
   "execution_count": 7,
   "metadata": {},
   "outputs": [],
   "source": [
    "# get a list of files\n",
    "files = []\n",
    "\n",
    "for f in sorted(os.listdir(DATA_DIRECTORY)):\n",
    "    fname = os.path.join(DATA_DIRECTORY, f)     \n",
    "    files.append(fname)\n"
   ]
  },
  {
   "cell_type": "code",
   "execution_count": 8,
   "metadata": {},
   "outputs": [
    {
     "data": {
      "text/plain": [
       "442"
      ]
     },
     "execution_count": 8,
     "metadata": {},
     "output_type": "execute_result"
    }
   ],
   "source": [
    "len(files)"
   ]
  },
  {
   "cell_type": "code",
   "execution_count": 9,
   "metadata": {},
   "outputs": [],
   "source": [
    "def read_pandas(f):\n",
    "    df = pd.read_csv(f)\n",
    "    return df"
   ]
  },
  {
   "cell_type": "code",
   "execution_count": 10,
   "metadata": {},
   "outputs": [],
   "source": [
    "def read_cudf(f):\n",
    "    df = cudf.read_csv(f)\n",
    "    return df"
   ]
  },
  {
   "cell_type": "code",
   "execution_count": 11,
   "metadata": {},
   "outputs": [],
   "source": [
    "# Load all the data with Pandas\n",
    "def read_all_data_pandas(_files):\n",
    "    data = []\n",
    "    for f in _files:\n",
    "        df = read_pandas(f)\n",
    "        data.append(df)\n",
    "  \n",
    "    _df = pd.concat(data)\n",
    "    del data\n",
    "    return _df"
   ]
  },
  {
   "cell_type": "code",
   "execution_count": 12,
   "metadata": {},
   "outputs": [],
   "source": [
    "# Load data with RAPIDS cuDF\n",
    "def read_all_data_cudf(_files):\n",
    "    data = []\n",
    "    for f in files:\n",
    "        df = read_cudf(f)\n",
    "        data.append(df)\n",
    "\n",
    "    _df = cudf.concat(data)\n",
    "\n",
    "    del data\n",
    "    return _df"
   ]
  },
  {
   "cell_type": "code",
   "execution_count": 13,
   "metadata": {},
   "outputs": [
    {
     "name": "stdout",
     "output_type": "stream",
     "text": [
      "CPU times: user 51.4 s, sys: 8.31 s, total: 59.7 s\n",
      "Wall time: 59.8 s\n"
     ]
    }
   ],
   "source": [
    "%%time\n",
    "pdf = read_all_data_pandas(files)"
   ]
  },
  {
   "cell_type": "code",
   "execution_count": 14,
   "metadata": {},
   "outputs": [
    {
     "name": "stdout",
     "output_type": "stream",
     "text": [
      "CPU times: user 9.65 s, sys: 1.77 s, total: 11.4 s\n",
      "Wall time: 11.5 s\n"
     ]
    }
   ],
   "source": [
    "%%time\n",
    "gdf = read_all_data_cudf(files)"
   ]
  },
  {
   "cell_type": "code",
   "execution_count": 15,
   "metadata": {},
   "outputs": [
    {
     "data": {
      "text/plain": [
       "(8217202, 8217202)"
      ]
     },
     "execution_count": 15,
     "metadata": {},
     "output_type": "execute_result"
    }
   ],
   "source": [
    "(len(pdf), len(gdf))"
   ]
  },
  {
   "cell_type": "markdown",
   "metadata": {},
   "source": [
    "__That's it.__  data is loaded and ready for processing"
   ]
  },
  {
   "cell_type": "markdown",
   "metadata": {},
   "source": [
    "----"
   ]
  },
  {
   "cell_type": "markdown",
   "metadata": {},
   "source": [
    "We'll inspect the head of the new cuDF as a sanity check."
   ]
  },
  {
   "cell_type": "code",
   "execution_count": 16,
   "metadata": {
    "scrolled": true
   },
   "outputs": [
    {
     "data": {
      "text/html": [
       "<div>\n",
       "<style scoped>\n",
       "    .dataframe tbody tr th:only-of-type {\n",
       "        vertical-align: middle;\n",
       "    }\n",
       "\n",
       "    .dataframe tbody tr th {\n",
       "        vertical-align: top;\n",
       "    }\n",
       "\n",
       "    .dataframe thead th {\n",
       "        text-align: right;\n",
       "    }\n",
       "</style>\n",
       "<table border=\"1\" class=\"dataframe\">\n",
       "  <thead>\n",
       "    <tr style=\"text-align: right;\">\n",
       "      <th></th>\n",
       "      <th>Flow ID</th>\n",
       "      <th>Src IP</th>\n",
       "      <th>Src Port</th>\n",
       "      <th>Dst IP</th>\n",
       "      <th>Dst Port</th>\n",
       "      <th>Protocol</th>\n",
       "      <th>Timestamp</th>\n",
       "      <th>Flow Duration</th>\n",
       "      <th>Tot Fwd Pkts</th>\n",
       "      <th>Tot Bwd Pkts</th>\n",
       "      <th>...</th>\n",
       "      <th>Fwd Seg Size Min</th>\n",
       "      <th>Active Mean</th>\n",
       "      <th>Active Std</th>\n",
       "      <th>Active Max</th>\n",
       "      <th>Active Min</th>\n",
       "      <th>Idle Mean</th>\n",
       "      <th>Idle Std</th>\n",
       "      <th>Idle Max</th>\n",
       "      <th>Idle Min</th>\n",
       "      <th>Label</th>\n",
       "    </tr>\n",
       "  </thead>\n",
       "  <tbody>\n",
       "    <tr>\n",
       "      <th>0</th>\n",
       "      <td>8.0.6.4-8.6.0.1-0-0-0</td>\n",
       "      <td>8.6.0.1</td>\n",
       "      <td>0</td>\n",
       "      <td>8.0.6.4</td>\n",
       "      <td>0</td>\n",
       "      <td>0</td>\n",
       "      <td>02/03/2018 12:50:13 PM</td>\n",
       "      <td>112640178</td>\n",
       "      <td>2</td>\n",
       "      <td>1</td>\n",
       "      <td>...</td>\n",
       "      <td>0</td>\n",
       "      <td>0.0</td>\n",
       "      <td>0.0</td>\n",
       "      <td>0.0</td>\n",
       "      <td>0.0</td>\n",
       "      <td>56320089.0</td>\n",
       "      <td>159.806133</td>\n",
       "      <td>56320202.0</td>\n",
       "      <td>56319976.0</td>\n",
       "      <td>No Label</td>\n",
       "    </tr>\n",
       "    <tr>\n",
       "      <th>1</th>\n",
       "      <td>8.0.6.4-8.6.0.1-0-0-0</td>\n",
       "      <td>8.6.0.1</td>\n",
       "      <td>0</td>\n",
       "      <td>8.0.6.4</td>\n",
       "      <td>0</td>\n",
       "      <td>0</td>\n",
       "      <td>02/03/2018 12:53:02 PM</td>\n",
       "      <td>112642593</td>\n",
       "      <td>2</td>\n",
       "      <td>1</td>\n",
       "      <td>...</td>\n",
       "      <td>0</td>\n",
       "      <td>0.0</td>\n",
       "      <td>0.0</td>\n",
       "      <td>0.0</td>\n",
       "      <td>0.0</td>\n",
       "      <td>56321296.5</td>\n",
       "      <td>120.915260</td>\n",
       "      <td>56321382.0</td>\n",
       "      <td>56321211.0</td>\n",
       "      <td>No Label</td>\n",
       "    </tr>\n",
       "    <tr>\n",
       "      <th>2</th>\n",
       "      <td>8.0.6.4-8.6.0.1-0-0-0</td>\n",
       "      <td>8.6.0.1</td>\n",
       "      <td>0</td>\n",
       "      <td>8.0.6.4</td>\n",
       "      <td>0</td>\n",
       "      <td>0</td>\n",
       "      <td>02/03/2018 12:55:51 PM</td>\n",
       "      <td>112640127</td>\n",
       "      <td>2</td>\n",
       "      <td>1</td>\n",
       "      <td>...</td>\n",
       "      <td>0</td>\n",
       "      <td>0.0</td>\n",
       "      <td>0.0</td>\n",
       "      <td>0.0</td>\n",
       "      <td>0.0</td>\n",
       "      <td>56320063.5</td>\n",
       "      <td>251.022907</td>\n",
       "      <td>56320241.0</td>\n",
       "      <td>56319886.0</td>\n",
       "      <td>No Label</td>\n",
       "    </tr>\n",
       "    <tr>\n",
       "      <th>3</th>\n",
       "      <td>8.0.6.4-8.6.0.1-0-0-0</td>\n",
       "      <td>8.6.0.1</td>\n",
       "      <td>0</td>\n",
       "      <td>8.0.6.4</td>\n",
       "      <td>0</td>\n",
       "      <td>0</td>\n",
       "      <td>02/03/2018 12:58:40 PM</td>\n",
       "      <td>112641715</td>\n",
       "      <td>2</td>\n",
       "      <td>1</td>\n",
       "      <td>...</td>\n",
       "      <td>0</td>\n",
       "      <td>0.0</td>\n",
       "      <td>0.0</td>\n",
       "      <td>0.0</td>\n",
       "      <td>0.0</td>\n",
       "      <td>56320857.5</td>\n",
       "      <td>67.175144</td>\n",
       "      <td>56320905.0</td>\n",
       "      <td>56320810.0</td>\n",
       "      <td>No Label</td>\n",
       "    </tr>\n",
       "    <tr>\n",
       "      <th>4</th>\n",
       "      <td>8.0.6.4-8.6.0.1-0-0-0</td>\n",
       "      <td>8.6.0.1</td>\n",
       "      <td>0</td>\n",
       "      <td>8.0.6.4</td>\n",
       "      <td>0</td>\n",
       "      <td>0</td>\n",
       "      <td>02/03/2018 01:01:29 PM</td>\n",
       "      <td>112642245</td>\n",
       "      <td>2</td>\n",
       "      <td>1</td>\n",
       "      <td>...</td>\n",
       "      <td>0</td>\n",
       "      <td>0.0</td>\n",
       "      <td>0.0</td>\n",
       "      <td>0.0</td>\n",
       "      <td>0.0</td>\n",
       "      <td>56321122.5</td>\n",
       "      <td>3.535534</td>\n",
       "      <td>56321125.0</td>\n",
       "      <td>56321120.0</td>\n",
       "      <td>No Label</td>\n",
       "    </tr>\n",
       "  </tbody>\n",
       "</table>\n",
       "<p>5 rows × 84 columns</p>\n",
       "</div>"
      ],
      "text/plain": [
       "                 Flow ID   Src IP  Src Port   Dst IP  Dst Port  Protocol  \\\n",
       "0  8.0.6.4-8.6.0.1-0-0-0  8.6.0.1         0  8.0.6.4         0         0   \n",
       "1  8.0.6.4-8.6.0.1-0-0-0  8.6.0.1         0  8.0.6.4         0         0   \n",
       "2  8.0.6.4-8.6.0.1-0-0-0  8.6.0.1         0  8.0.6.4         0         0   \n",
       "3  8.0.6.4-8.6.0.1-0-0-0  8.6.0.1         0  8.0.6.4         0         0   \n",
       "4  8.0.6.4-8.6.0.1-0-0-0  8.6.0.1         0  8.0.6.4         0         0   \n",
       "\n",
       "                Timestamp  Flow Duration  Tot Fwd Pkts  Tot Bwd Pkts  ...  \\\n",
       "0  02/03/2018 12:50:13 PM      112640178             2             1  ...   \n",
       "1  02/03/2018 12:53:02 PM      112642593             2             1  ...   \n",
       "2  02/03/2018 12:55:51 PM      112640127             2             1  ...   \n",
       "3  02/03/2018 12:58:40 PM      112641715             2             1  ...   \n",
       "4  02/03/2018 01:01:29 PM      112642245             2             1  ...   \n",
       "\n",
       "   Fwd Seg Size Min  Active Mean  Active Std  Active Max  Active Min  \\\n",
       "0                 0          0.0         0.0         0.0         0.0   \n",
       "1                 0          0.0         0.0         0.0         0.0   \n",
       "2                 0          0.0         0.0         0.0         0.0   \n",
       "3                 0          0.0         0.0         0.0         0.0   \n",
       "4                 0          0.0         0.0         0.0         0.0   \n",
       "\n",
       "    Idle Mean    Idle Std    Idle Max    Idle Min     Label  \n",
       "0  56320089.0  159.806133  56320202.0  56319976.0  No Label  \n",
       "1  56321296.5  120.915260  56321382.0  56321211.0  No Label  \n",
       "2  56320063.5  251.022907  56320241.0  56319886.0  No Label  \n",
       "3  56320857.5   67.175144  56320905.0  56320810.0  No Label  \n",
       "4  56321122.5    3.535534  56321125.0  56321120.0  No Label  \n",
       "\n",
       "[5 rows x 84 columns]"
      ]
     },
     "execution_count": 16,
     "metadata": {},
     "output_type": "execute_result"
    }
   ],
   "source": [
    "gdf.head(5)"
   ]
  },
  {
   "cell_type": "markdown",
   "metadata": {},
   "source": [
    "----"
   ]
  },
  {
   "cell_type": "markdown",
   "metadata": {},
   "source": [
    "# Data Exploration"
   ]
  },
  {
   "cell_type": "markdown",
   "metadata": {},
   "source": [
    "## Dataset Summary"
   ]
  },
  {
   "cell_type": "markdown",
   "metadata": {},
   "source": [
    "There's 84 features for each flow! You can find descriptions of all of them here: https://www.unb.ca/cic/datasets/ids-2018.html. Or look at the table below with some of the ones we'll be using highlighted below.\n",
    "\n",
    "\n",
    "|Field | Description|\n",
    "|---|---|\n",
    "|Src IP | Source IP\n",
    "|Src Port | Source Port\n",
    "|Dst IP| Destination IP\n",
    "|Dst Port| Destination Port\n",
    "|Tot Fwd Pkts| Total Forward Packets\n",
    "|Tot Bwd Pkts| Total Backward Packets\n",
    "|Fwd Header Len| Forward Header Length\n",
    "|Bwd Header Len| Backward Header Lenght\n",
    "|Fwd Pkts/s| Foward Packets per second\n",
    "|Bwd Pkts/s | Backward Packets per second"
   ]
  },
  {
   "cell_type": "markdown",
   "metadata": {},
   "source": [
    "## Data Exploration"
   ]
  },
  {
   "cell_type": "markdown",
   "metadata": {},
   "source": [
    "### Dataset Size and Data Types"
   ]
  },
  {
   "cell_type": "markdown",
   "metadata": {},
   "source": [
    "We first get a sense of how large the dataset is, and what some column names and their associated data types are."
   ]
  },
  {
   "cell_type": "code",
   "execution_count": 17,
   "metadata": {
    "scrolled": true
   },
   "outputs": [
    {
     "name": "stdout",
     "output_type": "stream",
     "text": [
      "(8217202, 84)\n"
     ]
    }
   ],
   "source": [
    "print(gdf.shape)"
   ]
  },
  {
   "cell_type": "code",
   "execution_count": 18,
   "metadata": {},
   "outputs": [
    {
     "name": "stdout",
     "output_type": "stream",
     "text": [
      "Flow ID       object\n",
      "Src IP        object\n",
      "Src Port       int64\n",
      "Dst IP        object\n",
      "Dst Port       int64\n",
      "              ...   \n",
      "Idle Mean    float64\n",
      "Idle Std     float64\n",
      "Idle Max     float64\n",
      "Idle Min     float64\n",
      "Label         object\n",
      "Length: 84, dtype: object\n"
     ]
    }
   ],
   "source": [
    "print(gdf.dtypes)"
   ]
  },
  {
   "cell_type": "markdown",
   "metadata": {},
   "source": [
    "### Summary Statistics on Numeric Fields"
   ]
  },
  {
   "cell_type": "markdown",
   "metadata": {},
   "source": [
    "Often it's useful to generate summary statistics on numeric fields. This is easy with the `describe()` function. Here, the output includes the minimum, maximum, mean, median, standard deviation, and various quantiles for selected fields in the dataset."
   ]
  },
  {
   "cell_type": "code",
   "execution_count": 19,
   "metadata": {},
   "outputs": [
    {
     "name": "stdout",
     "output_type": "stream",
     "text": [
      "       Flow Duration  Tot Fwd Pkts  Tot Bwd Pkts  Fwd Header Len  \\\n",
      "count   8.217202e+06  8.217202e+06  8.217202e+06    8.217202e+06   \n",
      "mean    1.601290e+07  5.229578e+00  7.693485e+00    1.013261e+02   \n",
      "std     3.450459e+07  5.748743e+01  1.530253e+02    1.768820e+03   \n",
      "min     0.000000e+00  0.000000e+00  1.000000e+00    0.000000e+00   \n",
      "25%     6.480000e+02  1.000000e+00  2.000000e+00    0.000000e+00   \n",
      "50%     2.041365e+05  2.000000e+00  2.000000e+00    2.000000e+01   \n",
      "75%     4.082616e+06  7.000000e+00  8.000000e+00    1.400000e+02   \n",
      "max     1.200000e+08  4.315800e+04  1.220150e+05    2.275004e+06   \n",
      "\n",
      "       Bwd Header Len    Fwd Pkts/s    Bwd Pkts/s  \n",
      "count    8.217202e+06  8.217202e+06  8.217202e+06  \n",
      "mean     1.597771e+02  1.196901e+04  1.589824e+04  \n",
      "std      3.028208e+03  1.072087e+05  1.082609e+05  \n",
      "min      0.000000e+00  0.000000e+00  0.000000e+00  \n",
      "25%      2.000000e+01  0.000000e+00  1.973443e+00  \n",
      "50%      4.000000e+01  2.093290e+00  1.242776e+01  \n",
      "75%      1.840000e+02  9.494061e+00  2.564103e+03  \n",
      "max      2.440324e+06  4.000000e+06  3.000000e+06  \n",
      "CPU times: user 515 ms, sys: 23.8 ms, total: 539 ms\n",
      "Wall time: 543 ms\n"
     ]
    }
   ],
   "source": [
    "%%time\n",
    "## - using RAPIDS\n",
    "print(gdf[['Flow Duration','Tot Fwd Pkts','Tot Bwd Pkts', 'Fwd Header Len', 'Bwd Header Len', 'Fwd Pkts/s', 'Bwd Pkts/s']].describe())"
   ]
  },
  {
   "cell_type": "code",
   "execution_count": 20,
   "metadata": {},
   "outputs": [
    {
     "name": "stdout",
     "output_type": "stream",
     "text": [
      "       Flow Duration  Tot Fwd Pkts  Tot Bwd Pkts  Fwd Header Len  \\\n",
      "count   8.217202e+06  8.217202e+06  8.217202e+06    8.217202e+06   \n",
      "mean    1.601290e+07  5.229578e+00  7.693485e+00    1.013261e+02   \n",
      "std     3.450459e+07  5.748743e+01  1.530253e+02    1.768820e+03   \n",
      "min     0.000000e+00  0.000000e+00  1.000000e+00    0.000000e+00   \n",
      "25%     6.480000e+02  1.000000e+00  2.000000e+00    0.000000e+00   \n",
      "50%     2.041365e+05  2.000000e+00  2.000000e+00    2.000000e+01   \n",
      "75%     4.082616e+06  7.000000e+00  8.000000e+00    1.400000e+02   \n",
      "max     1.200000e+08  4.315800e+04  1.220150e+05    2.275004e+06   \n",
      "\n",
      "       Bwd Header Len    Fwd Pkts/s    Bwd Pkts/s  \n",
      "count    8.217202e+06  8.217202e+06  8.217202e+06  \n",
      "mean     1.597771e+02  1.196901e+04  1.589824e+04  \n",
      "std      3.028208e+03  1.072087e+05  1.082609e+05  \n",
      "min      0.000000e+00  0.000000e+00  0.000000e+00  \n",
      "25%      2.000000e+01  0.000000e+00  1.973443e+00  \n",
      "50%      4.000000e+01  2.093290e+00  1.242776e+01  \n",
      "75%      1.840000e+02  9.494061e+00  2.564103e+03  \n",
      "max      2.440324e+06  4.000000e+06  3.000000e+06  \n",
      "CPU times: user 3.81 s, sys: 3.22 s, total: 7.02 s\n",
      "Wall time: 7.02 s\n"
     ]
    }
   ],
   "source": [
    "%%time\n",
    "## - using Pandas\n",
    "print(pdf[['Flow Duration','Tot Fwd Pkts','Tot Bwd Pkts', 'Fwd Header Len', 'Bwd Header Len', 'Fwd Pkts/s', 'Bwd Pkts/s']].describe())"
   ]
  },
  {
   "cell_type": "markdown",
   "metadata": {},
   "source": [
    "## Sorting and Groupby\n",
    "\n",
    "### start with single column"
   ]
  },
  {
   "cell_type": "code",
   "execution_count": 21,
   "metadata": {
    "scrolled": true
   },
   "outputs": [
    {
     "name": "stdout",
     "output_type": "stream",
     "text": [
      "0        142358\n",
      "3             1\n",
      "5             2\n",
      "10            3\n",
      "12            1\n",
      "          ...  \n",
      "65531         8\n",
      "65532        14\n",
      "65533         8\n",
      "65534        10\n",
      "65535         2\n",
      "Name: Dst Port, Length: 64601, dtype: int32\n",
      "CPU times: user 24.9 ms, sys: 4.18 ms, total: 29.1 ms\n",
      "Wall time: 27.6 ms\n"
     ]
    }
   ],
   "source": [
    "%%time\n",
    "# sort by port number\n",
    "print(gdf['Dst Port'].value_counts().sort_index())"
   ]
  },
  {
   "cell_type": "code",
   "execution_count": 22,
   "metadata": {},
   "outputs": [
    {
     "name": "stdout",
     "output_type": "stream",
     "text": [
      "0        142358\n",
      "3             1\n",
      "5             2\n",
      "10            3\n",
      "12            1\n",
      "          ...  \n",
      "65531         8\n",
      "65532        14\n",
      "65533         8\n",
      "65534        10\n",
      "65535         2\n",
      "Name: Dst Port, Length: 64601, dtype: int64\n",
      "CPU times: user 76.4 ms, sys: 23.2 ms, total: 99.7 ms\n",
      "Wall time: 98.6 ms\n"
     ]
    }
   ],
   "source": [
    "%%time\n",
    "# sort by port number\n",
    "print(pdf['Dst Port'].value_counts().sort_index())"
   ]
  },
  {
   "cell_type": "markdown",
   "metadata": {},
   "source": [
    "### the data frame"
   ]
  },
  {
   "cell_type": "code",
   "execution_count": 23,
   "metadata": {},
   "outputs": [
    {
     "name": "stdout",
     "output_type": "stream",
     "text": [
      "CPU times: user 149 ms, sys: 32.1 ms, total: 181 ms\n",
      "Wall time: 196 ms\n"
     ]
    },
    {
     "data": {
      "text/html": [
       "<div>\n",
       "<style scoped>\n",
       "    .dataframe tbody tr th:only-of-type {\n",
       "        vertical-align: middle;\n",
       "    }\n",
       "\n",
       "    .dataframe tbody tr th {\n",
       "        vertical-align: top;\n",
       "    }\n",
       "\n",
       "    .dataframe thead th {\n",
       "        text-align: right;\n",
       "    }\n",
       "</style>\n",
       "<table border=\"1\" class=\"dataframe\">\n",
       "  <thead>\n",
       "    <tr style=\"text-align: right;\">\n",
       "      <th></th>\n",
       "      <th>Flow ID</th>\n",
       "      <th>Src IP</th>\n",
       "      <th>Src Port</th>\n",
       "      <th>Dst IP</th>\n",
       "      <th>Dst Port</th>\n",
       "      <th>Protocol</th>\n",
       "      <th>Timestamp</th>\n",
       "      <th>Flow Duration</th>\n",
       "      <th>Tot Fwd Pkts</th>\n",
       "      <th>Tot Bwd Pkts</th>\n",
       "      <th>...</th>\n",
       "      <th>Fwd Seg Size Min</th>\n",
       "      <th>Active Mean</th>\n",
       "      <th>Active Std</th>\n",
       "      <th>Active Max</th>\n",
       "      <th>Active Min</th>\n",
       "      <th>Idle Mean</th>\n",
       "      <th>Idle Std</th>\n",
       "      <th>Idle Max</th>\n",
       "      <th>Idle Min</th>\n",
       "      <th>Label</th>\n",
       "    </tr>\n",
       "  </thead>\n",
       "  <tbody>\n",
       "    <tr>\n",
       "      <th>0</th>\n",
       "      <td>8.0.6.4-8.6.0.1-0-0-0</td>\n",
       "      <td>8.6.0.1</td>\n",
       "      <td>0</td>\n",
       "      <td>8.0.6.4</td>\n",
       "      <td>0</td>\n",
       "      <td>0</td>\n",
       "      <td>02/03/2018 12:50:13 PM</td>\n",
       "      <td>112640178</td>\n",
       "      <td>2</td>\n",
       "      <td>1</td>\n",
       "      <td>...</td>\n",
       "      <td>0</td>\n",
       "      <td>0.0</td>\n",
       "      <td>0.0</td>\n",
       "      <td>0.0</td>\n",
       "      <td>0.0</td>\n",
       "      <td>56320089.0</td>\n",
       "      <td>159.806133</td>\n",
       "      <td>56320202.0</td>\n",
       "      <td>56319976.0</td>\n",
       "      <td>No Label</td>\n",
       "    </tr>\n",
       "    <tr>\n",
       "      <th>1</th>\n",
       "      <td>8.0.6.4-8.6.0.1-0-0-0</td>\n",
       "      <td>8.6.0.1</td>\n",
       "      <td>0</td>\n",
       "      <td>8.0.6.4</td>\n",
       "      <td>0</td>\n",
       "      <td>0</td>\n",
       "      <td>02/03/2018 12:53:02 PM</td>\n",
       "      <td>112642593</td>\n",
       "      <td>2</td>\n",
       "      <td>1</td>\n",
       "      <td>...</td>\n",
       "      <td>0</td>\n",
       "      <td>0.0</td>\n",
       "      <td>0.0</td>\n",
       "      <td>0.0</td>\n",
       "      <td>0.0</td>\n",
       "      <td>56321296.5</td>\n",
       "      <td>120.915260</td>\n",
       "      <td>56321382.0</td>\n",
       "      <td>56321211.0</td>\n",
       "      <td>No Label</td>\n",
       "    </tr>\n",
       "    <tr>\n",
       "      <th>2</th>\n",
       "      <td>8.0.6.4-8.6.0.1-0-0-0</td>\n",
       "      <td>8.6.0.1</td>\n",
       "      <td>0</td>\n",
       "      <td>8.0.6.4</td>\n",
       "      <td>0</td>\n",
       "      <td>0</td>\n",
       "      <td>02/03/2018 12:55:51 PM</td>\n",
       "      <td>112640127</td>\n",
       "      <td>2</td>\n",
       "      <td>1</td>\n",
       "      <td>...</td>\n",
       "      <td>0</td>\n",
       "      <td>0.0</td>\n",
       "      <td>0.0</td>\n",
       "      <td>0.0</td>\n",
       "      <td>0.0</td>\n",
       "      <td>56320063.5</td>\n",
       "      <td>251.022907</td>\n",
       "      <td>56320241.0</td>\n",
       "      <td>56319886.0</td>\n",
       "      <td>No Label</td>\n",
       "    </tr>\n",
       "    <tr>\n",
       "      <th>3</th>\n",
       "      <td>8.0.6.4-8.6.0.1-0-0-0</td>\n",
       "      <td>8.6.0.1</td>\n",
       "      <td>0</td>\n",
       "      <td>8.0.6.4</td>\n",
       "      <td>0</td>\n",
       "      <td>0</td>\n",
       "      <td>02/03/2018 12:58:40 PM</td>\n",
       "      <td>112641715</td>\n",
       "      <td>2</td>\n",
       "      <td>1</td>\n",
       "      <td>...</td>\n",
       "      <td>0</td>\n",
       "      <td>0.0</td>\n",
       "      <td>0.0</td>\n",
       "      <td>0.0</td>\n",
       "      <td>0.0</td>\n",
       "      <td>56320857.5</td>\n",
       "      <td>67.175144</td>\n",
       "      <td>56320905.0</td>\n",
       "      <td>56320810.0</td>\n",
       "      <td>No Label</td>\n",
       "    </tr>\n",
       "    <tr>\n",
       "      <th>4</th>\n",
       "      <td>8.0.6.4-8.6.0.1-0-0-0</td>\n",
       "      <td>8.6.0.1</td>\n",
       "      <td>0</td>\n",
       "      <td>8.0.6.4</td>\n",
       "      <td>0</td>\n",
       "      <td>0</td>\n",
       "      <td>02/03/2018 01:01:29 PM</td>\n",
       "      <td>112642245</td>\n",
       "      <td>2</td>\n",
       "      <td>1</td>\n",
       "      <td>...</td>\n",
       "      <td>0</td>\n",
       "      <td>0.0</td>\n",
       "      <td>0.0</td>\n",
       "      <td>0.0</td>\n",
       "      <td>0.0</td>\n",
       "      <td>56321122.5</td>\n",
       "      <td>3.535534</td>\n",
       "      <td>56321125.0</td>\n",
       "      <td>56321120.0</td>\n",
       "      <td>No Label</td>\n",
       "    </tr>\n",
       "  </tbody>\n",
       "</table>\n",
       "<p>5 rows × 84 columns</p>\n",
       "</div>"
      ],
      "text/plain": [
       "                 Flow ID   Src IP  Src Port   Dst IP  Dst Port  Protocol  \\\n",
       "0  8.0.6.4-8.6.0.1-0-0-0  8.6.0.1         0  8.0.6.4         0         0   \n",
       "1  8.0.6.4-8.6.0.1-0-0-0  8.6.0.1         0  8.0.6.4         0         0   \n",
       "2  8.0.6.4-8.6.0.1-0-0-0  8.6.0.1         0  8.0.6.4         0         0   \n",
       "3  8.0.6.4-8.6.0.1-0-0-0  8.6.0.1         0  8.0.6.4         0         0   \n",
       "4  8.0.6.4-8.6.0.1-0-0-0  8.6.0.1         0  8.0.6.4         0         0   \n",
       "\n",
       "                Timestamp  Flow Duration  Tot Fwd Pkts  Tot Bwd Pkts  ...  \\\n",
       "0  02/03/2018 12:50:13 PM      112640178             2             1  ...   \n",
       "1  02/03/2018 12:53:02 PM      112642593             2             1  ...   \n",
       "2  02/03/2018 12:55:51 PM      112640127             2             1  ...   \n",
       "3  02/03/2018 12:58:40 PM      112641715             2             1  ...   \n",
       "4  02/03/2018 01:01:29 PM      112642245             2             1  ...   \n",
       "\n",
       "   Fwd Seg Size Min  Active Mean  Active Std  Active Max  Active Min  \\\n",
       "0                 0          0.0         0.0         0.0         0.0   \n",
       "1                 0          0.0         0.0         0.0         0.0   \n",
       "2                 0          0.0         0.0         0.0         0.0   \n",
       "3                 0          0.0         0.0         0.0         0.0   \n",
       "4                 0          0.0         0.0         0.0         0.0   \n",
       "\n",
       "    Idle Mean    Idle Std    Idle Max    Idle Min     Label  \n",
       "0  56320089.0  159.806133  56320202.0  56319976.0  No Label  \n",
       "1  56321296.5  120.915260  56321382.0  56321211.0  No Label  \n",
       "2  56320063.5  251.022907  56320241.0  56319886.0  No Label  \n",
       "3  56320857.5   67.175144  56320905.0  56320810.0  No Label  \n",
       "4  56321122.5    3.535534  56321125.0  56321120.0  No Label  \n",
       "\n",
       "[5 rows x 84 columns]"
      ]
     },
     "execution_count": 23,
     "metadata": {},
     "output_type": "execute_result"
    }
   ],
   "source": [
    "%%time\n",
    "gdf.sort_values(by='Dst Port').head(5)"
   ]
  },
  {
   "cell_type": "code",
   "execution_count": 24,
   "metadata": {},
   "outputs": [
    {
     "name": "stdout",
     "output_type": "stream",
     "text": [
      "CPU times: user 4.91 s, sys: 1.36 s, total: 6.27 s\n",
      "Wall time: 6.25 s\n"
     ]
    },
    {
     "data": {
      "text/html": [
       "<div>\n",
       "<style scoped>\n",
       "    .dataframe tbody tr th:only-of-type {\n",
       "        vertical-align: middle;\n",
       "    }\n",
       "\n",
       "    .dataframe tbody tr th {\n",
       "        vertical-align: top;\n",
       "    }\n",
       "\n",
       "    .dataframe thead th {\n",
       "        text-align: right;\n",
       "    }\n",
       "</style>\n",
       "<table border=\"1\" class=\"dataframe\">\n",
       "  <thead>\n",
       "    <tr style=\"text-align: right;\">\n",
       "      <th></th>\n",
       "      <th>Flow ID</th>\n",
       "      <th>Src IP</th>\n",
       "      <th>Src Port</th>\n",
       "      <th>Dst IP</th>\n",
       "      <th>Dst Port</th>\n",
       "      <th>Protocol</th>\n",
       "      <th>Timestamp</th>\n",
       "      <th>Flow Duration</th>\n",
       "      <th>Tot Fwd Pkts</th>\n",
       "      <th>Tot Bwd Pkts</th>\n",
       "      <th>...</th>\n",
       "      <th>Fwd Seg Size Min</th>\n",
       "      <th>Active Mean</th>\n",
       "      <th>Active Std</th>\n",
       "      <th>Active Max</th>\n",
       "      <th>Active Min</th>\n",
       "      <th>Idle Mean</th>\n",
       "      <th>Idle Std</th>\n",
       "      <th>Idle Max</th>\n",
       "      <th>Idle Min</th>\n",
       "      <th>Label</th>\n",
       "    </tr>\n",
       "  </thead>\n",
       "  <tbody>\n",
       "    <tr>\n",
       "      <th>0</th>\n",
       "      <td>8.0.6.4-8.6.0.1-0-0-0</td>\n",
       "      <td>8.6.0.1</td>\n",
       "      <td>0</td>\n",
       "      <td>8.0.6.4</td>\n",
       "      <td>0</td>\n",
       "      <td>0</td>\n",
       "      <td>02/03/2018 12:50:13 PM</td>\n",
       "      <td>112640178</td>\n",
       "      <td>2</td>\n",
       "      <td>1</td>\n",
       "      <td>...</td>\n",
       "      <td>0</td>\n",
       "      <td>0.0</td>\n",
       "      <td>0.0</td>\n",
       "      <td>0.0</td>\n",
       "      <td>0.0</td>\n",
       "      <td>56320089.0</td>\n",
       "      <td>159.806133</td>\n",
       "      <td>56320202.0</td>\n",
       "      <td>56319976.0</td>\n",
       "      <td>No Label</td>\n",
       "    </tr>\n",
       "    <tr>\n",
       "      <th>4534</th>\n",
       "      <td>8.0.6.4-8.6.0.1-0-0-0</td>\n",
       "      <td>8.6.0.1</td>\n",
       "      <td>0</td>\n",
       "      <td>8.0.6.4</td>\n",
       "      <td>0</td>\n",
       "      <td>0</td>\n",
       "      <td>02/03/2018 07:00:01 PM</td>\n",
       "      <td>112637563</td>\n",
       "      <td>2</td>\n",
       "      <td>1</td>\n",
       "      <td>...</td>\n",
       "      <td>0</td>\n",
       "      <td>0.0</td>\n",
       "      <td>0.0</td>\n",
       "      <td>0.0</td>\n",
       "      <td>0.0</td>\n",
       "      <td>56318781.5</td>\n",
       "      <td>139.300036</td>\n",
       "      <td>56318880.0</td>\n",
       "      <td>56318683.0</td>\n",
       "      <td>No Label</td>\n",
       "    </tr>\n",
       "    <tr>\n",
       "      <th>4538</th>\n",
       "      <td>8.0.6.4-8.6.0.1-0-0-0</td>\n",
       "      <td>8.6.0.1</td>\n",
       "      <td>0</td>\n",
       "      <td>8.0.6.4</td>\n",
       "      <td>0</td>\n",
       "      <td>0</td>\n",
       "      <td>02/03/2018 07:02:50 PM</td>\n",
       "      <td>112637600</td>\n",
       "      <td>2</td>\n",
       "      <td>1</td>\n",
       "      <td>...</td>\n",
       "      <td>0</td>\n",
       "      <td>0.0</td>\n",
       "      <td>0.0</td>\n",
       "      <td>0.0</td>\n",
       "      <td>0.0</td>\n",
       "      <td>56318800.0</td>\n",
       "      <td>90.509668</td>\n",
       "      <td>56318864.0</td>\n",
       "      <td>56318736.0</td>\n",
       "      <td>No Label</td>\n",
       "    </tr>\n",
       "    <tr>\n",
       "      <th>6357</th>\n",
       "      <td>172.31.65.6-34.224.252.61-0-0-0</td>\n",
       "      <td>172.31.65.6</td>\n",
       "      <td>0</td>\n",
       "      <td>34.224.252.61</td>\n",
       "      <td>0</td>\n",
       "      <td>0</td>\n",
       "      <td>02/03/2018 02:03:20 PM</td>\n",
       "      <td>17832591</td>\n",
       "      <td>2</td>\n",
       "      <td>1</td>\n",
       "      <td>...</td>\n",
       "      <td>0</td>\n",
       "      <td>1665838.0</td>\n",
       "      <td>0.0</td>\n",
       "      <td>1665838.0</td>\n",
       "      <td>1665838.0</td>\n",
       "      <td>16166753.0</td>\n",
       "      <td>0.000000</td>\n",
       "      <td>16166753.0</td>\n",
       "      <td>16166753.0</td>\n",
       "      <td>No Label</td>\n",
       "    </tr>\n",
       "    <tr>\n",
       "      <th>4490</th>\n",
       "      <td>8.0.6.4-8.6.0.1-0-0-0</td>\n",
       "      <td>8.6.0.1</td>\n",
       "      <td>0</td>\n",
       "      <td>8.0.6.4</td>\n",
       "      <td>0</td>\n",
       "      <td>0</td>\n",
       "      <td>02/03/2018 05:17:20 PM</td>\n",
       "      <td>112636939</td>\n",
       "      <td>2</td>\n",
       "      <td>1</td>\n",
       "      <td>...</td>\n",
       "      <td>0</td>\n",
       "      <td>0.0</td>\n",
       "      <td>0.0</td>\n",
       "      <td>0.0</td>\n",
       "      <td>0.0</td>\n",
       "      <td>56318469.5</td>\n",
       "      <td>30.405592</td>\n",
       "      <td>56318491.0</td>\n",
       "      <td>56318448.0</td>\n",
       "      <td>No Label</td>\n",
       "    </tr>\n",
       "  </tbody>\n",
       "</table>\n",
       "<p>5 rows × 84 columns</p>\n",
       "</div>"
      ],
      "text/plain": [
       "                              Flow ID       Src IP  Src Port         Dst IP  \\\n",
       "0               8.0.6.4-8.6.0.1-0-0-0      8.6.0.1         0        8.0.6.4   \n",
       "4534            8.0.6.4-8.6.0.1-0-0-0      8.6.0.1         0        8.0.6.4   \n",
       "4538            8.0.6.4-8.6.0.1-0-0-0      8.6.0.1         0        8.0.6.4   \n",
       "6357  172.31.65.6-34.224.252.61-0-0-0  172.31.65.6         0  34.224.252.61   \n",
       "4490            8.0.6.4-8.6.0.1-0-0-0      8.6.0.1         0        8.0.6.4   \n",
       "\n",
       "      Dst Port  Protocol               Timestamp  Flow Duration  Tot Fwd Pkts  \\\n",
       "0            0         0  02/03/2018 12:50:13 PM      112640178             2   \n",
       "4534         0         0  02/03/2018 07:00:01 PM      112637563             2   \n",
       "4538         0         0  02/03/2018 07:02:50 PM      112637600             2   \n",
       "6357         0         0  02/03/2018 02:03:20 PM       17832591             2   \n",
       "4490         0         0  02/03/2018 05:17:20 PM      112636939             2   \n",
       "\n",
       "      Tot Bwd Pkts  ...  Fwd Seg Size Min  Active Mean  Active Std  \\\n",
       "0                1  ...                 0          0.0         0.0   \n",
       "4534             1  ...                 0          0.0         0.0   \n",
       "4538             1  ...                 0          0.0         0.0   \n",
       "6357             1  ...                 0    1665838.0         0.0   \n",
       "4490             1  ...                 0          0.0         0.0   \n",
       "\n",
       "      Active Max  Active Min   Idle Mean    Idle Std    Idle Max    Idle Min  \\\n",
       "0            0.0         0.0  56320089.0  159.806133  56320202.0  56319976.0   \n",
       "4534         0.0         0.0  56318781.5  139.300036  56318880.0  56318683.0   \n",
       "4538         0.0         0.0  56318800.0   90.509668  56318864.0  56318736.0   \n",
       "6357   1665838.0   1665838.0  16166753.0    0.000000  16166753.0  16166753.0   \n",
       "4490         0.0         0.0  56318469.5   30.405592  56318491.0  56318448.0   \n",
       "\n",
       "         Label  \n",
       "0     No Label  \n",
       "4534  No Label  \n",
       "4538  No Label  \n",
       "6357  No Label  \n",
       "4490  No Label  \n",
       "\n",
       "[5 rows x 84 columns]"
      ]
     },
     "execution_count": 24,
     "metadata": {},
     "output_type": "execute_result"
    }
   ],
   "source": [
    "%%time\n",
    "pdf.sort_values(by='Dst Port').head(5)"
   ]
  },
  {
   "cell_type": "code",
   "execution_count": 25,
   "metadata": {},
   "outputs": [
    {
     "name": "stdout",
     "output_type": "stream",
     "text": [
      "CPU times: user 410 ms, sys: 20.5 ms, total: 431 ms\n",
      "Wall time: 454 ms\n"
     ]
    },
    {
     "data": {
      "text/html": [
       "<div>\n",
       "<style scoped>\n",
       "    .dataframe tbody tr th:only-of-type {\n",
       "        vertical-align: middle;\n",
       "    }\n",
       "\n",
       "    .dataframe tbody tr th {\n",
       "        vertical-align: top;\n",
       "    }\n",
       "\n",
       "    .dataframe thead th {\n",
       "        text-align: right;\n",
       "    }\n",
       "</style>\n",
       "<table border=\"1\" class=\"dataframe\">\n",
       "  <thead>\n",
       "    <tr style=\"text-align: right;\">\n",
       "      <th></th>\n",
       "      <th>Flow ID</th>\n",
       "      <th>Src IP</th>\n",
       "      <th>Src Port</th>\n",
       "      <th>Dst IP</th>\n",
       "      <th>Dst Port</th>\n",
       "      <th>Protocol</th>\n",
       "      <th>Timestamp</th>\n",
       "      <th>Flow Duration</th>\n",
       "      <th>Tot Fwd Pkts</th>\n",
       "      <th>Tot Bwd Pkts</th>\n",
       "      <th>...</th>\n",
       "      <th>Fwd Seg Size Min</th>\n",
       "      <th>Active Mean</th>\n",
       "      <th>Active Std</th>\n",
       "      <th>Active Max</th>\n",
       "      <th>Active Min</th>\n",
       "      <th>Idle Mean</th>\n",
       "      <th>Idle Std</th>\n",
       "      <th>Idle Max</th>\n",
       "      <th>Idle Min</th>\n",
       "      <th>Label</th>\n",
       "    </tr>\n",
       "  </thead>\n",
       "  <tbody>\n",
       "    <tr>\n",
       "      <th>18464</th>\n",
       "      <td>172.31.65.10-1.0.150.69-445-9946-6</td>\n",
       "      <td>172.31.65.10</td>\n",
       "      <td>445</td>\n",
       "      <td>1.0.150.69</td>\n",
       "      <td>9946</td>\n",
       "      <td>6</td>\n",
       "      <td>02/03/2018 02:50:56 PM</td>\n",
       "      <td>23</td>\n",
       "      <td>1</td>\n",
       "      <td>1</td>\n",
       "      <td>...</td>\n",
       "      <td>0</td>\n",
       "      <td>0.0</td>\n",
       "      <td>0.0</td>\n",
       "      <td>0.0</td>\n",
       "      <td>0.0</td>\n",
       "      <td>0.0</td>\n",
       "      <td>0.0</td>\n",
       "      <td>0.0</td>\n",
       "      <td>0.0</td>\n",
       "      <td>No Label</td>\n",
       "    </tr>\n",
       "    <tr>\n",
       "      <th>16021</th>\n",
       "      <td>172.31.65.10-1.0.150.69-445-9978-6</td>\n",
       "      <td>172.31.65.10</td>\n",
       "      <td>445</td>\n",
       "      <td>1.0.150.69</td>\n",
       "      <td>9978</td>\n",
       "      <td>6</td>\n",
       "      <td>02/03/2018 02:50:57 PM</td>\n",
       "      <td>198</td>\n",
       "      <td>1</td>\n",
       "      <td>1</td>\n",
       "      <td>...</td>\n",
       "      <td>0</td>\n",
       "      <td>0.0</td>\n",
       "      <td>0.0</td>\n",
       "      <td>0.0</td>\n",
       "      <td>0.0</td>\n",
       "      <td>0.0</td>\n",
       "      <td>0.0</td>\n",
       "      <td>0.0</td>\n",
       "      <td>0.0</td>\n",
       "      <td>No Label</td>\n",
       "    </tr>\n",
       "    <tr>\n",
       "      <th>11790</th>\n",
       "      <td>172.31.66.11-1.0.150.69-445-13063-6</td>\n",
       "      <td>172.31.66.11</td>\n",
       "      <td>445</td>\n",
       "      <td>1.0.150.69</td>\n",
       "      <td>13063</td>\n",
       "      <td>6</td>\n",
       "      <td>02/03/2018 02:51:37 PM</td>\n",
       "      <td>36</td>\n",
       "      <td>1</td>\n",
       "      <td>1</td>\n",
       "      <td>...</td>\n",
       "      <td>0</td>\n",
       "      <td>0.0</td>\n",
       "      <td>0.0</td>\n",
       "      <td>0.0</td>\n",
       "      <td>0.0</td>\n",
       "      <td>0.0</td>\n",
       "      <td>0.0</td>\n",
       "      <td>0.0</td>\n",
       "      <td>0.0</td>\n",
       "      <td>No Label</td>\n",
       "    </tr>\n",
       "    <tr>\n",
       "      <th>12588</th>\n",
       "      <td>172.31.65.72-1.0.150.69-445-31408-6</td>\n",
       "      <td>172.31.65.72</td>\n",
       "      <td>445</td>\n",
       "      <td>1.0.150.69</td>\n",
       "      <td>31408</td>\n",
       "      <td>6</td>\n",
       "      <td>02/03/2018 02:22:48 PM</td>\n",
       "      <td>20</td>\n",
       "      <td>1</td>\n",
       "      <td>1</td>\n",
       "      <td>...</td>\n",
       "      <td>0</td>\n",
       "      <td>0.0</td>\n",
       "      <td>0.0</td>\n",
       "      <td>0.0</td>\n",
       "      <td>0.0</td>\n",
       "      <td>0.0</td>\n",
       "      <td>0.0</td>\n",
       "      <td>0.0</td>\n",
       "      <td>0.0</td>\n",
       "      <td>No Label</td>\n",
       "    </tr>\n",
       "    <tr>\n",
       "      <th>13564</th>\n",
       "      <td>172.31.65.122-1.0.150.69-445-36868-6</td>\n",
       "      <td>172.31.65.122</td>\n",
       "      <td>445</td>\n",
       "      <td>1.0.150.69</td>\n",
       "      <td>36868</td>\n",
       "      <td>6</td>\n",
       "      <td>02/03/2018 02:41:36 PM</td>\n",
       "      <td>32</td>\n",
       "      <td>1</td>\n",
       "      <td>1</td>\n",
       "      <td>...</td>\n",
       "      <td>0</td>\n",
       "      <td>0.0</td>\n",
       "      <td>0.0</td>\n",
       "      <td>0.0</td>\n",
       "      <td>0.0</td>\n",
       "      <td>0.0</td>\n",
       "      <td>0.0</td>\n",
       "      <td>0.0</td>\n",
       "      <td>0.0</td>\n",
       "      <td>No Label</td>\n",
       "    </tr>\n",
       "  </tbody>\n",
       "</table>\n",
       "<p>5 rows × 84 columns</p>\n",
       "</div>"
      ],
      "text/plain": [
       "                                    Flow ID         Src IP  Src Port  \\\n",
       "18464    172.31.65.10-1.0.150.69-445-9946-6   172.31.65.10       445   \n",
       "16021    172.31.65.10-1.0.150.69-445-9978-6   172.31.65.10       445   \n",
       "11790   172.31.66.11-1.0.150.69-445-13063-6   172.31.66.11       445   \n",
       "12588   172.31.65.72-1.0.150.69-445-31408-6   172.31.65.72       445   \n",
       "13564  172.31.65.122-1.0.150.69-445-36868-6  172.31.65.122       445   \n",
       "\n",
       "           Dst IP  Dst Port  Protocol               Timestamp  Flow Duration  \\\n",
       "18464  1.0.150.69      9946         6  02/03/2018 02:50:56 PM             23   \n",
       "16021  1.0.150.69      9978         6  02/03/2018 02:50:57 PM            198   \n",
       "11790  1.0.150.69     13063         6  02/03/2018 02:51:37 PM             36   \n",
       "12588  1.0.150.69     31408         6  02/03/2018 02:22:48 PM             20   \n",
       "13564  1.0.150.69     36868         6  02/03/2018 02:41:36 PM             32   \n",
       "\n",
       "       Tot Fwd Pkts  Tot Bwd Pkts  ...  Fwd Seg Size Min  Active Mean  \\\n",
       "18464             1             1  ...                 0          0.0   \n",
       "16021             1             1  ...                 0          0.0   \n",
       "11790             1             1  ...                 0          0.0   \n",
       "12588             1             1  ...                 0          0.0   \n",
       "13564             1             1  ...                 0          0.0   \n",
       "\n",
       "       Active Std  Active Max  Active Min  Idle Mean  Idle Std  Idle Max  \\\n",
       "18464         0.0         0.0         0.0        0.0       0.0       0.0   \n",
       "16021         0.0         0.0         0.0        0.0       0.0       0.0   \n",
       "11790         0.0         0.0         0.0        0.0       0.0       0.0   \n",
       "12588         0.0         0.0         0.0        0.0       0.0       0.0   \n",
       "13564         0.0         0.0         0.0        0.0       0.0       0.0   \n",
       "\n",
       "       Idle Min     Label  \n",
       "18464       0.0  No Label  \n",
       "16021       0.0  No Label  \n",
       "11790       0.0  No Label  \n",
       "12588       0.0  No Label  \n",
       "13564       0.0  No Label  \n",
       "\n",
       "[5 rows x 84 columns]"
      ]
     },
     "execution_count": 25,
     "metadata": {},
     "output_type": "execute_result"
    }
   ],
   "source": [
    "%%time\n",
    "gdf.sort_values(by=['Dst IP','Dst Port']).head(5)"
   ]
  },
  {
   "cell_type": "code",
   "execution_count": 26,
   "metadata": {},
   "outputs": [
    {
     "name": "stdout",
     "output_type": "stream",
     "text": [
      "CPU times: user 4.87 s, sys: 1.56 s, total: 6.43 s\n",
      "Wall time: 6.41 s\n"
     ]
    },
    {
     "data": {
      "text/html": [
       "<div>\n",
       "<style scoped>\n",
       "    .dataframe tbody tr th:only-of-type {\n",
       "        vertical-align: middle;\n",
       "    }\n",
       "\n",
       "    .dataframe tbody tr th {\n",
       "        vertical-align: top;\n",
       "    }\n",
       "\n",
       "    .dataframe thead th {\n",
       "        text-align: right;\n",
       "    }\n",
       "</style>\n",
       "<table border=\"1\" class=\"dataframe\">\n",
       "  <thead>\n",
       "    <tr style=\"text-align: right;\">\n",
       "      <th></th>\n",
       "      <th>Flow ID</th>\n",
       "      <th>Src IP</th>\n",
       "      <th>Src Port</th>\n",
       "      <th>Dst IP</th>\n",
       "      <th>Dst Port</th>\n",
       "      <th>Protocol</th>\n",
       "      <th>Timestamp</th>\n",
       "      <th>Flow Duration</th>\n",
       "      <th>Tot Fwd Pkts</th>\n",
       "      <th>Tot Bwd Pkts</th>\n",
       "      <th>...</th>\n",
       "      <th>Fwd Seg Size Min</th>\n",
       "      <th>Active Mean</th>\n",
       "      <th>Active Std</th>\n",
       "      <th>Active Max</th>\n",
       "      <th>Active Min</th>\n",
       "      <th>Idle Mean</th>\n",
       "      <th>Idle Std</th>\n",
       "      <th>Idle Max</th>\n",
       "      <th>Idle Min</th>\n",
       "      <th>Label</th>\n",
       "    </tr>\n",
       "  </thead>\n",
       "  <tbody>\n",
       "    <tr>\n",
       "      <th>18464</th>\n",
       "      <td>172.31.65.10-1.0.150.69-445-9946-6</td>\n",
       "      <td>172.31.65.10</td>\n",
       "      <td>445</td>\n",
       "      <td>1.0.150.69</td>\n",
       "      <td>9946</td>\n",
       "      <td>6</td>\n",
       "      <td>02/03/2018 02:50:56 PM</td>\n",
       "      <td>23</td>\n",
       "      <td>1</td>\n",
       "      <td>1</td>\n",
       "      <td>...</td>\n",
       "      <td>0</td>\n",
       "      <td>0.0</td>\n",
       "      <td>0.0</td>\n",
       "      <td>0.0</td>\n",
       "      <td>0.0</td>\n",
       "      <td>0.0</td>\n",
       "      <td>0.0</td>\n",
       "      <td>0.0</td>\n",
       "      <td>0.0</td>\n",
       "      <td>No Label</td>\n",
       "    </tr>\n",
       "    <tr>\n",
       "      <th>16021</th>\n",
       "      <td>172.31.65.10-1.0.150.69-445-9978-6</td>\n",
       "      <td>172.31.65.10</td>\n",
       "      <td>445</td>\n",
       "      <td>1.0.150.69</td>\n",
       "      <td>9978</td>\n",
       "      <td>6</td>\n",
       "      <td>02/03/2018 02:50:57 PM</td>\n",
       "      <td>198</td>\n",
       "      <td>1</td>\n",
       "      <td>1</td>\n",
       "      <td>...</td>\n",
       "      <td>0</td>\n",
       "      <td>0.0</td>\n",
       "      <td>0.0</td>\n",
       "      <td>0.0</td>\n",
       "      <td>0.0</td>\n",
       "      <td>0.0</td>\n",
       "      <td>0.0</td>\n",
       "      <td>0.0</td>\n",
       "      <td>0.0</td>\n",
       "      <td>No Label</td>\n",
       "    </tr>\n",
       "    <tr>\n",
       "      <th>11790</th>\n",
       "      <td>172.31.66.11-1.0.150.69-445-13063-6</td>\n",
       "      <td>172.31.66.11</td>\n",
       "      <td>445</td>\n",
       "      <td>1.0.150.69</td>\n",
       "      <td>13063</td>\n",
       "      <td>6</td>\n",
       "      <td>02/03/2018 02:51:37 PM</td>\n",
       "      <td>36</td>\n",
       "      <td>1</td>\n",
       "      <td>1</td>\n",
       "      <td>...</td>\n",
       "      <td>0</td>\n",
       "      <td>0.0</td>\n",
       "      <td>0.0</td>\n",
       "      <td>0.0</td>\n",
       "      <td>0.0</td>\n",
       "      <td>0.0</td>\n",
       "      <td>0.0</td>\n",
       "      <td>0.0</td>\n",
       "      <td>0.0</td>\n",
       "      <td>No Label</td>\n",
       "    </tr>\n",
       "    <tr>\n",
       "      <th>12588</th>\n",
       "      <td>172.31.65.72-1.0.150.69-445-31408-6</td>\n",
       "      <td>172.31.65.72</td>\n",
       "      <td>445</td>\n",
       "      <td>1.0.150.69</td>\n",
       "      <td>31408</td>\n",
       "      <td>6</td>\n",
       "      <td>02/03/2018 02:22:48 PM</td>\n",
       "      <td>20</td>\n",
       "      <td>1</td>\n",
       "      <td>1</td>\n",
       "      <td>...</td>\n",
       "      <td>0</td>\n",
       "      <td>0.0</td>\n",
       "      <td>0.0</td>\n",
       "      <td>0.0</td>\n",
       "      <td>0.0</td>\n",
       "      <td>0.0</td>\n",
       "      <td>0.0</td>\n",
       "      <td>0.0</td>\n",
       "      <td>0.0</td>\n",
       "      <td>No Label</td>\n",
       "    </tr>\n",
       "    <tr>\n",
       "      <th>13564</th>\n",
       "      <td>172.31.65.122-1.0.150.69-445-36868-6</td>\n",
       "      <td>172.31.65.122</td>\n",
       "      <td>445</td>\n",
       "      <td>1.0.150.69</td>\n",
       "      <td>36868</td>\n",
       "      <td>6</td>\n",
       "      <td>02/03/2018 02:41:36 PM</td>\n",
       "      <td>32</td>\n",
       "      <td>1</td>\n",
       "      <td>1</td>\n",
       "      <td>...</td>\n",
       "      <td>0</td>\n",
       "      <td>0.0</td>\n",
       "      <td>0.0</td>\n",
       "      <td>0.0</td>\n",
       "      <td>0.0</td>\n",
       "      <td>0.0</td>\n",
       "      <td>0.0</td>\n",
       "      <td>0.0</td>\n",
       "      <td>0.0</td>\n",
       "      <td>No Label</td>\n",
       "    </tr>\n",
       "  </tbody>\n",
       "</table>\n",
       "<p>5 rows × 84 columns</p>\n",
       "</div>"
      ],
      "text/plain": [
       "                                    Flow ID         Src IP  Src Port  \\\n",
       "18464    172.31.65.10-1.0.150.69-445-9946-6   172.31.65.10       445   \n",
       "16021    172.31.65.10-1.0.150.69-445-9978-6   172.31.65.10       445   \n",
       "11790   172.31.66.11-1.0.150.69-445-13063-6   172.31.66.11       445   \n",
       "12588   172.31.65.72-1.0.150.69-445-31408-6   172.31.65.72       445   \n",
       "13564  172.31.65.122-1.0.150.69-445-36868-6  172.31.65.122       445   \n",
       "\n",
       "           Dst IP  Dst Port  Protocol               Timestamp  Flow Duration  \\\n",
       "18464  1.0.150.69      9946         6  02/03/2018 02:50:56 PM             23   \n",
       "16021  1.0.150.69      9978         6  02/03/2018 02:50:57 PM            198   \n",
       "11790  1.0.150.69     13063         6  02/03/2018 02:51:37 PM             36   \n",
       "12588  1.0.150.69     31408         6  02/03/2018 02:22:48 PM             20   \n",
       "13564  1.0.150.69     36868         6  02/03/2018 02:41:36 PM             32   \n",
       "\n",
       "       Tot Fwd Pkts  Tot Bwd Pkts  ...  Fwd Seg Size Min  Active Mean  \\\n",
       "18464             1             1  ...                 0          0.0   \n",
       "16021             1             1  ...                 0          0.0   \n",
       "11790             1             1  ...                 0          0.0   \n",
       "12588             1             1  ...                 0          0.0   \n",
       "13564             1             1  ...                 0          0.0   \n",
       "\n",
       "       Active Std  Active Max  Active Min  Idle Mean  Idle Std  Idle Max  \\\n",
       "18464         0.0         0.0         0.0        0.0       0.0       0.0   \n",
       "16021         0.0         0.0         0.0        0.0       0.0       0.0   \n",
       "11790         0.0         0.0         0.0        0.0       0.0       0.0   \n",
       "12588         0.0         0.0         0.0        0.0       0.0       0.0   \n",
       "13564         0.0         0.0         0.0        0.0       0.0       0.0   \n",
       "\n",
       "       Idle Min     Label  \n",
       "18464       0.0  No Label  \n",
       "16021       0.0  No Label  \n",
       "11790       0.0  No Label  \n",
       "12588       0.0  No Label  \n",
       "13564       0.0  No Label  \n",
       "\n",
       "[5 rows x 84 columns]"
      ]
     },
     "execution_count": 26,
     "metadata": {},
     "output_type": "execute_result"
    }
   ],
   "source": [
    "%%time\n",
    "pdf.sort_values(by=['Dst IP','Dst Port']).head(5)"
   ]
  },
  {
   "cell_type": "markdown",
   "metadata": {},
   "source": [
    "### Aggregate Statistics"
   ]
  },
  {
   "cell_type": "markdown",
   "metadata": {},
   "source": [
    "Another common way to investigate a new dataset is to calculate aggregate statistics on various fields (and groupings of fields) in the data. Below, we apply a `groupby()` then a `sum()` to calculate total forward-direction (outbound) packets for each source IP address."
   ]
  },
  {
   "cell_type": "code",
   "execution_count": 27,
   "metadata": {},
   "outputs": [
    {
     "name": "stdout",
     "output_type": "stream",
     "text": [
      "                Tot Fwd Pkts\n",
      "Src IP                      \n",
      "0.0.0.0                  702\n",
      "1.0.150.69                87\n",
      "1.0.196.220               10\n",
      "1.1.165.90               186\n",
      "1.1.174.152               44\n",
      "...                      ...\n",
      "99.158.245.186             2\n",
      "99.178.244.230            27\n",
      "99.46.42.37                1\n",
      "99.47.33.152               2\n",
      "99.60.19.158              91\n",
      "\n",
      "[32674 rows x 1 columns]\n",
      "CPU times: user 26.9 ms, sys: 4.63 ms, total: 31.5 ms\n",
      "Wall time: 30.2 ms\n"
     ]
    }
   ],
   "source": [
    "%%time\n",
    "print(gdf[['Src IP','Tot Fwd Pkts']].groupby('Src IP').sum())"
   ]
  },
  {
   "cell_type": "code",
   "execution_count": 28,
   "metadata": {},
   "outputs": [
    {
     "name": "stdout",
     "output_type": "stream",
     "text": [
      "                Tot Fwd Pkts\n",
      "Src IP                      \n",
      "0.0.0.0                  702\n",
      "1.0.150.69                87\n",
      "1.0.196.220               10\n",
      "1.1.165.90               186\n",
      "1.1.174.152               44\n",
      "...                      ...\n",
      "99.158.245.186             2\n",
      "99.178.244.230            27\n",
      "99.46.42.37                1\n",
      "99.47.33.152               2\n",
      "99.60.19.158              91\n",
      "\n",
      "[32674 rows x 1 columns]\n",
      "CPU times: user 765 ms, sys: 124 ms, total: 890 ms\n",
      "Wall time: 887 ms\n"
     ]
    }
   ],
   "source": [
    "%%time\n",
    "print(pdf[['Src IP','Tot Fwd Pkts']].groupby('Src IP').sum())"
   ]
  },
  {
   "cell_type": "markdown",
   "metadata": {},
   "source": [
    "group by two columns"
   ]
  },
  {
   "cell_type": "code",
   "execution_count": 29,
   "metadata": {},
   "outputs": [
    {
     "name": "stdout",
     "output_type": "stream",
     "text": [
      "                       Tot Fwd Pkts\n",
      "Src IP       Src Port              \n",
      "0.0.0.0      68                 702\n",
      "1.0.150.69   9946                 2\n",
      "             9978                10\n",
      "             11073                8\n",
      "             12583                6\n",
      "...                             ...\n",
      "99.60.19.158 57617                8\n",
      "             58136                7\n",
      "             60341                8\n",
      "             61756                7\n",
      "             64300                6\n",
      "\n",
      "[4445260 rows x 1 columns]\n",
      "CPU times: user 486 ms, sys: 27.6 ms, total: 514 ms\n",
      "Wall time: 519 ms\n"
     ]
    }
   ],
   "source": [
    "%%time\n",
    "print(gdf[['Src IP','Src Port','Tot Fwd Pkts']].groupby(by=['Src IP','Src Port']).sum())"
   ]
  },
  {
   "cell_type": "code",
   "execution_count": 30,
   "metadata": {},
   "outputs": [
    {
     "name": "stdout",
     "output_type": "stream",
     "text": [
      "                       Tot Fwd Pkts\n",
      "Src IP       Src Port              \n",
      "0.0.0.0      68                 702\n",
      "1.0.150.69   9946                 2\n",
      "             9978                10\n",
      "             11073                8\n",
      "             12583                6\n",
      "...                             ...\n",
      "99.60.19.158 57617                8\n",
      "             58136                7\n",
      "             60341                8\n",
      "             61756                7\n",
      "             64300                6\n",
      "\n",
      "[4445260 rows x 1 columns]\n",
      "CPU times: user 2.5 s, sys: 432 ms, total: 2.93 s\n",
      "Wall time: 2.92 s\n"
     ]
    }
   ],
   "source": [
    "%%time\n",
    "print(pdf[['Src IP','Src Port','Tot Fwd Pkts']].groupby(by=['Src IP','Src Port']).sum())"
   ]
  },
  {
   "cell_type": "markdown",
   "metadata": {},
   "source": [
    "------\n",
    "Clean up"
   ]
  },
  {
   "cell_type": "code",
   "execution_count": 31,
   "metadata": {},
   "outputs": [
    {
     "data": {
      "text/plain": [
       "108"
      ]
     },
     "execution_count": 31,
     "metadata": {},
     "output_type": "execute_result"
    }
   ],
   "source": [
    "del pdf\n",
    "del gdf\n",
    "gc.collect()"
   ]
  },
  {
   "cell_type": "code",
   "execution_count": 32,
   "metadata": {},
   "outputs": [],
   "source": [
    "pdf = read_all_data_pandas(files)\n",
    "gdf = read_all_data_cudf(files)"
   ]
  },
  {
   "cell_type": "markdown",
   "metadata": {},
   "source": [
    "-------------\n",
    "# Graph Representation of the Network Data"
   ]
  },
  {
   "cell_type": "markdown",
   "metadata": {},
   "source": [
    "Networks (including cybersecurity networks) are frequently interpreted and represented as graphs. A graph representation affords us many benefits during analysis, including using both the structure, edge features, and generated features for anomaly detection. We first demonstrate how to create a [cuGraph](https://github.com/rapidsai/cugraph) representation of graph data represented in cuDF, then we walk through some analysis."
   ]
  },
  {
   "cell_type": "code",
   "execution_count": 1,
   "metadata": {},
   "outputs": [
    {
     "ename": "NameError",
     "evalue": "name 'cugraph' is not defined",
     "output_type": "error",
     "traceback": [
      "\u001b[0;31m---------------------------------------------------------------------------\u001b[0m",
      "\u001b[0;31mNameError\u001b[0m                                 Traceback (most recent call last)",
      "\u001b[0;32m<timed exec>\u001b[0m in \u001b[0;36m<module>\u001b[0;34m\u001b[0m\n",
      "\u001b[0;31mNameError\u001b[0m: name 'cugraph' is not defined"
     ]
    }
   ],
   "source": [
    "%%time\n",
    "G = cugraph.from_cudf_edgelist(gdf, source='Src IP', destination='Dst IP', renumber=True, create_using=cugraph.Graph )"
   ]
  },
  {
   "cell_type": "markdown",
   "metadata": {},
   "source": [
    "### Calculating the Degree"
   ]
  },
  {
   "cell_type": "markdown",
   "metadata": {},
   "source": [
    "We'll find the number of connections at each node. This is often useful to see what nodes have the most connections, as these are typically backbone assets of the network."
   ]
  },
  {
   "cell_type": "code",
   "execution_count": null,
   "metadata": {},
   "outputs": [],
   "source": [
    "%%time\n",
    "deg = G.degree()"
   ]
  },
  {
   "cell_type": "code",
   "execution_count": null,
   "metadata": {},
   "outputs": [],
   "source": [
    "# top 3 most connected vertices \n",
    "deg.sort_values('degree', ascending=False).head(3)"
   ]
  },
  {
   "cell_type": "markdown",
   "metadata": {},
   "source": [
    "__now Nx__"
   ]
  },
  {
   "cell_type": "code",
   "execution_count": null,
   "metadata": {},
   "outputs": [],
   "source": [
    "%%time\n",
    "Gnx = nx.from_pandas_edgelist(pdf, source='Src IP', target='Dst IP', create_using=nx.Graph() )"
   ]
  },
  {
   "cell_type": "code",
   "execution_count": null,
   "metadata": {},
   "outputs": [],
   "source": [
    "%%time\n",
    "deg_p = Gnx.degree()"
   ]
  },
  {
   "cell_type": "code",
   "execution_count": null,
   "metadata": {},
   "outputs": [],
   "source": [
    "# top 3 most connected vertices \n",
    "sorted(deg_p, key=lambda x: x[1], reverse=True)[0:3]"
   ]
  },
  {
   "cell_type": "markdown",
   "metadata": {},
   "source": [
    "## PageRank"
   ]
  },
  {
   "cell_type": "markdown",
   "metadata": {},
   "source": [
    "PageRank (PR) is a [fairly well-known algorithm](https://en.wikipedia.org/wiki/PageRank), originally developed to rank web pages in Google search results. Traditionally, the PageRank algorithm outputs a probability distribution which represents the likelihood that a person randomly clicking on links will arrive at any particular page. We can use that same property to rank states of an attack graph."
   ]
  },
  {
   "cell_type": "code",
   "execution_count": null,
   "metadata": {},
   "outputs": [],
   "source": [
    "%%time\n",
    "# Call cugraph.pagerank to get the pagerank scores\n",
    "gdf_pr = cugraph.pagerank(G)"
   ]
  },
  {
   "cell_type": "code",
   "execution_count": null,
   "metadata": {},
   "outputs": [],
   "source": [
    "# In order to find the most important node, we first find the maximum PR value\n",
    "print(gdf_pr['pagerank'].max() )"
   ]
  },
  {
   "cell_type": "code",
   "execution_count": null,
   "metadata": {},
   "outputs": [],
   "source": [
    "gdf_pr.sort_values('pagerank', ascending=False).head(3)"
   ]
  },
  {
   "cell_type": "markdown",
   "metadata": {},
   "source": [
    "__NX__"
   ]
  },
  {
   "cell_type": "code",
   "execution_count": null,
   "metadata": {},
   "outputs": [],
   "source": [
    "%%time\n",
    "# Call cugraph.pagerank to get the pagerank scores\n",
    "nx_pr = nx.pagerank(Gnx)"
   ]
  },
  {
   "cell_type": "code",
   "execution_count": null,
   "metadata": {},
   "outputs": [],
   "source": [
    "%%time\n",
    "sorted(nx_pr.items(), key=lambda x: x[1], reverse=True)[0:3]"
   ]
  },
  {
   "cell_type": "markdown",
   "metadata": {},
   "source": [
    "## cool things with cuGraph\n",
    "__use a NetworkX object__"
   ]
  },
  {
   "cell_type": "code",
   "execution_count": null,
   "metadata": {},
   "outputs": [],
   "source": [
    "%%time\n",
    "nx_pr2 = cugraph.pagerank(Gnx)"
   ]
  },
  {
   "cell_type": "code",
   "execution_count": null,
   "metadata": {},
   "outputs": [],
   "source": [
    "%%time\n",
    "sorted(nx_pr2.items(), key=lambda x: x[1], reverse=True)[0:3]"
   ]
  },
  {
   "cell_type": "markdown",
   "metadata": {},
   "source": [
    "__Multi-CVolumn vertex IDs__"
   ]
  },
  {
   "cell_type": "code",
   "execution_count": null,
   "metadata": {},
   "outputs": [],
   "source": [
    "%%time\n",
    "G2 = cugraph.from_cudf_edgelist(gdf, source=['Src IP','Src Port'], destination=['Dst IP','Dst Port'], renumber=True, create_using=cugraph.Graph )"
   ]
  },
  {
   "cell_type": "code",
   "execution_count": null,
   "metadata": {},
   "outputs": [],
   "source": [
    "%%time\n",
    "gdf_pr2 = cugraph.pagerank(G2)"
   ]
  },
  {
   "cell_type": "code",
   "execution_count": null,
   "metadata": {},
   "outputs": [],
   "source": [
    "gdf_pr2.sort_values('pagerank', ascending=False).head(3)"
   ]
  },
  {
   "cell_type": "markdown",
   "metadata": {},
   "source": [
    "<hr />\n",
    "\n",
    "## Acknowledgmnets"
   ]
  },
  {
   "cell_type": "markdown",
   "metadata": {},
   "source": [
    "We would like to thank the [Canadian Institute for Cybersecurity](https://www.unb.ca/cic/) for the data used in this tutorial. A complete description of the dataset used is [available online](https://registry.opendata.aws/cse-cic-ids2018/). In addition, the paper associated with this dataset is:\n",
    "\n",
    "> Iman Sharafaldin, Arash Habibi Lashkari, and Ali A. Ghorbani, “Toward Generating a New Intrusion Detection Dataset and Intrusion Traffic Characterization”, 4th International Conference on Information Systems Security and Privacy (ICISSP), Portugal, January 2018\n",
    "\n",
    "We would also like to acknowledge the contributions of Eli Fajardo (NVIDIA), Brad Rees, PhD (NVIDIA), and the [RAPIDS](https://rapids.ai) engineering team."
   ]
  },
  {
   "cell_type": "code",
   "execution_count": null,
   "metadata": {},
   "outputs": [],
   "source": []
  }
 ],
 "metadata": {
  "kernelspec": {
   "display_name": "rapids-0.17",
   "language": "python",
   "name": "rapids-0.17"
  },
  "language_info": {
   "codemirror_mode": {
    "name": "ipython",
    "version": 3
   },
   "file_extension": ".py",
   "mimetype": "text/x-python",
   "name": "python",
   "nbconvert_exporter": "python",
   "pygments_lexer": "ipython3",
   "version": "3.8.6"
  }
 },
 "nbformat": 4,
 "nbformat_minor": 4
}
