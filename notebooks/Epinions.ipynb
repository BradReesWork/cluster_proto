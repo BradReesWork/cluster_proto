{
 "cells": [
  {
   "cell_type": "code",
   "execution_count": null,
   "metadata": {},
   "outputs": [],
   "source": [
    "# Epinion / Trust Network\n",
    "https://www.kaggle.com/masoud3/epinions-trust-network\n"
   ]
  },
  {
   "cell_type": "code",
   "execution_count": 25,
   "metadata": {},
   "outputs": [],
   "source": [
    "import cudf\n",
    "import cugraph\n",
    "import pandas\n",
    "import time\n",
    "import os\n",
    "import matplotlib"
   ]
  },
  {
   "cell_type": "markdown",
   "metadata": {},
   "source": [
    "# Load the Trust Data\n",
    "user_rating.txt\n",
    "* MY_ID This stores Id of the member who is making the trust/distrust statement \n",
    "* OTHER_ID The other ID is the ID of the member being trusted/distrusted \n",
    "* VALUE Value = 1 for trust and -1 for distrust \n",
    "* CREATION It is the date on which the trust was made "
   ]
  },
  {
   "cell_type": "code",
   "execution_count": 17,
   "metadata": {},
   "outputs": [],
   "source": [
    "trust_gdf = cudf.read_csv('./epinions/user_rating.txt',\n",
    "                          delimiter='\\t',\n",
    "                          names=['my_id','other_id','value','creation'],\n",
    "                          dtype=['int64', 'int64', 'int32', 'str'], \n",
    "                          header=None                       \n",
    "                         )"
   ]
  },
  {
   "cell_type": "code",
   "execution_count": 18,
   "metadata": {},
   "outputs": [
    {
     "data": {
      "text/html": [
       "<div>\n",
       "<style scoped>\n",
       "    .dataframe tbody tr th:only-of-type {\n",
       "        vertical-align: middle;\n",
       "    }\n",
       "\n",
       "    .dataframe tbody tr th {\n",
       "        vertical-align: top;\n",
       "    }\n",
       "\n",
       "    .dataframe thead th {\n",
       "        text-align: right;\n",
       "    }\n",
       "</style>\n",
       "<table border=\"1\" class=\"dataframe\">\n",
       "  <thead>\n",
       "    <tr style=\"text-align: right;\">\n",
       "      <th></th>\n",
       "      <th>my_id</th>\n",
       "      <th>other_id</th>\n",
       "      <th>value</th>\n",
       "      <th>creation</th>\n",
       "    </tr>\n",
       "  </thead>\n",
       "  <tbody>\n",
       "    <tr>\n",
       "      <th>0</th>\n",
       "      <td>3287060356</td>\n",
       "      <td>232085</td>\n",
       "      <td>-1</td>\n",
       "      <td>2001/01/10</td>\n",
       "    </tr>\n",
       "    <tr>\n",
       "      <th>1</th>\n",
       "      <td>3288305540</td>\n",
       "      <td>709420</td>\n",
       "      <td>1</td>\n",
       "      <td>2001/01/10</td>\n",
       "    </tr>\n",
       "    <tr>\n",
       "      <th>2</th>\n",
       "      <td>3290337156</td>\n",
       "      <td>204418</td>\n",
       "      <td>-1</td>\n",
       "      <td>2001/01/10</td>\n",
       "    </tr>\n",
       "    <tr>\n",
       "      <th>3</th>\n",
       "      <td>3294138244</td>\n",
       "      <td>269243</td>\n",
       "      <td>-1</td>\n",
       "      <td>2001/01/10</td>\n",
       "    </tr>\n",
       "    <tr>\n",
       "      <th>4</th>\n",
       "      <td>3294138244</td>\n",
       "      <td>170692484</td>\n",
       "      <td>-1</td>\n",
       "      <td>2001/01/10</td>\n",
       "    </tr>\n",
       "  </tbody>\n",
       "</table>\n",
       "</div>"
      ],
      "text/plain": [
       "        my_id   other_id  value    creation\n",
       "0  3287060356     232085     -1  2001/01/10\n",
       "1  3288305540     709420      1  2001/01/10\n",
       "2  3290337156     204418     -1  2001/01/10\n",
       "3  3294138244     269243     -1  2001/01/10\n",
       "4  3294138244  170692484     -1  2001/01/10"
      ]
     },
     "execution_count": 18,
     "metadata": {},
     "output_type": "execute_result"
    }
   ],
   "source": [
    "trust_gdf.head(5)"
   ]
  },
  {
   "cell_type": "code",
   "execution_count": 19,
   "metadata": {},
   "outputs": [
    {
     "name": "stdout",
     "output_type": "stream",
     "text": [
      "Number of positive ratings is 717,667\n"
     ]
    }
   ],
   "source": [
    "print(\"Number of positive ratings is {:,}\".format(len(trust_gdf.query('value > 0'))) )"
   ]
  },
  {
   "cell_type": "code",
   "execution_count": 20,
   "metadata": {},
   "outputs": [
    {
     "name": "stdout",
     "output_type": "stream",
     "text": [
      "Number of negative ratings is 123,705\n"
     ]
    }
   ],
   "source": [
    "print(\"Number of negative ratings is {:,}\".format(len(trust_gdf.query('value < 0'))))"
   ]
  },
  {
   "cell_type": "code",
   "execution_count": 21,
   "metadata": {},
   "outputs": [],
   "source": [
    "# Let's build a graph (Undirected)\n",
    "G = cugraph.Graph()"
   ]
  },
  {
   "cell_type": "code",
   "execution_count": 23,
   "metadata": {},
   "outputs": [],
   "source": [
    "G.from_cudf_edgelist(trust_gdf, source=\"my_id\", destination=\"other_id\", edge_attr='value')"
   ]
  },
  {
   "cell_type": "code",
   "execution_count": 24,
   "metadata": {},
   "outputs": [
    {
     "data": {
      "text/plain": [
       "(131828, 711783)"
      ]
     },
     "execution_count": 24,
     "metadata": {},
     "output_type": "execute_result"
    }
   ],
   "source": [
    "(G.number_of_nodes(), G.number_of_edges())"
   ]
  },
  {
   "cell_type": "code",
   "execution_count": 56,
   "metadata": {},
   "outputs": [
    {
     "data": {
      "text/plain": [
       "<AxesSubplot:xlabel='degree'>"
      ]
     },
     "execution_count": 56,
     "metadata": {},
     "output_type": "execute_result"
    },
    {
     "data": {
      "image/png": "[encoded data removed]",
      "text/plain": [
       "<Figure size 1440x360 with 1 Axes>"
      ]
     },
     "metadata": {
      "needs_background": "light"
     },
     "output_type": "display_data"
    }
   ],
   "source": [
    "# Degree distribution\n",
    "%matplotlib inline\n",
    "G.degree().groupby('degree').count().sort_values(by='vertex', ascending=False).to_pandas().plot(legend=True, figsize=(20, 5))"
   ]
  },
  {
   "cell_type": "code",
   "execution_count": 59,
   "metadata": {},
   "outputs": [
    {
     "data": {
      "text/plain": [
       "vertex    67573\n",
       "dtype: int32"
      ]
     },
     "execution_count": 59,
     "metadata": {},
     "output_type": "execute_result"
    }
   ],
   "source": [
    "# What is that max degree value\n",
    "G.degree().groupby('degree').count().max()"
   ]
  },
  {
   "cell_type": "code",
   "execution_count": 57,
   "metadata": {},
   "outputs": [
    {
     "data": {
      "text/plain": [
       "<AxesSubplot:xlabel='degree'>"
      ]
     },
     "execution_count": 57,
     "metadata": {},
     "output_type": "execute_result"
    },
    {
     "data": {
      "image/png": "[encoded data removed]",
      "text/plain": [
       "<Figure size 720x360 with 1 Axes>"
      ]
     },
     "metadata": {
      "needs_background": "light"
     },
     "output_type": "display_data"
    }
   ],
   "source": [
    "# Degree distribution\n",
    "%matplotlib inline\n",
    "G.degree().groupby('degree').count().sort_values(by='vertex', ascending=False).head(10).to_pandas().plot(legend=True, figsize=(10, 5))"
   ]
  },
  {
   "cell_type": "code",
   "execution_count": 58,
   "metadata": {},
   "outputs": [
    {
     "data": {
      "text/plain": [
       "<AxesSubplot:xlabel='degree'>"
      ]
     },
     "execution_count": 58,
     "metadata": {},
     "output_type": "execute_result"
    },
    {
     "data": {
      "image/png": "[encoded data removed]",
      "text/plain": [
       "<Figure size 720x360 with 1 Axes>"
      ]
     },
     "metadata": {
      "needs_background": "light"
     },
     "output_type": "display_data"
    }
   ],
   "source": [
    "# Degree distribution\n",
    "%matplotlib inline\n",
    "G.degree().groupby('degree').count().query('vertex < 1000').sort_values(by='vertex', ascending=False).head(10).to_pandas().plot(legend=True, figsize=(10, 5))"
   ]
  },
  {
   "cell_type": "code",
   "execution_count": 50,
   "metadata": {},
   "outputs": [
    {
     "data": {
      "text/plain": [
       "vertex    67573\n",
       "dtype: int32"
      ]
     },
     "execution_count": 50,
     "metadata": {},
     "output_type": "execute_result"
    }
   ],
   "source": [
    "G.degree().groupby('degree').count().max()"
   ]
  },
  {
   "cell_type": "code",
   "execution_count": null,
   "metadata": {},
   "outputs": [],
   "source": []
  }
 ],
 "metadata": {
  "kernelspec": {
   "display_name": "rapids-0.17",
   "language": "python",
   "name": "rapids-0.17"
  },
  "language_info": {
   "codemirror_mode": {
    "name": "ipython",
    "version": 3
   },
   "file_extension": ".py",
   "mimetype": "text/x-python",
   "name": "python",
   "nbconvert_exporter": "python",
   "pygments_lexer": "ipython3",
   "version": "3.8.6"
  }
 },
 "nbformat": 4,
 "nbformat_minor": 4
}
